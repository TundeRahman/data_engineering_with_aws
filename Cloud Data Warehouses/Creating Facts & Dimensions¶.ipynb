{
 "cells": [
  {
   "cell_type": "code",
   "execution_count": null,
   "metadata": {},
   "outputs": [],
   "source": [
    "#creation of date table\n",
    "CREATE TABLE dimDate (\n",
    "    date_key INTEGER GENERATED ALWAYS AS IDENTITY PRIMARY KEY, \n",
    "    date DATE,\n",
    "    year SMALLINT,\n",
    "    quarter SMALLINT,\n",
    "    month SMALLINT,\n",
    "    day SMALLINT,\n",
    "    week SMALLINT,\n",
    "    is_weekend BOOLEAN\n",
    ");"
   ]
  },
  {
   "cell_type": "markdown",
   "metadata": {},
   "source": [
    "### To check your work, run the following query to see a table with the field names and data types. The output should match the table below."
   ]
  },
  {
   "cell_type": "code",
   "execution_count": null,
   "metadata": {},
   "outputs": [],
   "source": [
    "SELECT column_name, data_type\n",
    "FROM information_schema.columns\n",
    "WHERE table_name   = 'dimdate'"
   ]
  },
  {
   "cell_type": "code",
   "execution_count": null,
   "metadata": {},
   "outputs": [],
   "source": [
    "CREATE TABLE dimCustomer\n",
    "(\n",
    "  customer_key SERIAL PRIMARY KEY,\n",
    "  customer_id  smallint NOT NULL,\n",
    "  first_name   varchar(45) NOT NULL,\n",
    "  last_name    varchar(45) NOT NULL,\n",
    "  email        varchar(50),\n",
    "  address      varchar(50) NOT NULL,\n",
    "  address2     varchar(50),\n",
    "  district     varchar(20) NOT NULL,\n",
    "  city         varchar(50) NOT NULL,\n",
    "  country      varchar(50) NOT NULL,\n",
    "  postal_code  varchar(10),\n",
    "  phone        varchar(20) NOT NULL,\n",
    "  active       smallint NOT NULL,\n",
    "  create_date  timestamp NOT NULL,\n",
    "  start_date   date NOT NULL,\n",
    "  end_date     date NOT NULL\n",
    ");"
   ]
  },
  {
   "cell_type": "code",
   "execution_count": null,
   "metadata": {},
   "outputs": [],
   "source": [
    "CREATE TABLE dimMovie\n",
    "(\n",
    "  movie_key          SERIAL PRIMARY KEY,\n",
    "  film_id            smallint NOT NULL,\n",
    "  title              varchar(255) NOT NULL,\n",
    "  description        text,\n",
    "  release_year       year,\n",
    "  language           varchar(20) NOT NULL,\n",
    "  original_language  varchar(20),\n",
    "  rental_duration    smallint NOT NULL,\n",
    "  length             smallint NOT NULL,\n",
    "  rating             varchar(5) NOT NULL,\n",
    "  special_features   varchar(60) NOT NULL\n",
    ");"
   ]
  },
  {
   "cell_type": "code",
   "execution_count": null,
   "metadata": {},
   "outputs": [],
   "source": [
    "CREATE TABLE dimStore\n",
    "(\n",
    "  store_key           SERIAL PRIMARY KEY,\n",
    "  store_id            smallint NOT NULL,\n",
    "  address             varchar(50) NOT NULL,\n",
    "  address2            varchar(50),\n",
    "  district            varchar(20) NOT NULL,\n",
    "  city                varchar(50) NOT NULL,\n",
    "  country             varchar(50) NOT NULL,\n",
    "  postal_code         varchar(10),\n",
    "  manager_first_name  varchar(45) NOT NULL,\n",
    "  manager_last_name   varchar(45) NOT NULL,\n",
    "  start_date          date NOT NULL,\n",
    "  end_date            date NOT NULL\n",
    ");"
   ]
  },
  {
   "cell_type": "code",
   "execution_count": null,
   "metadata": {},
   "outputs": [],
   "source": [
    "%%sql\n",
    "CREATE TABLE factSales\n",
    "(\n",
    " sales_key INTEGER REFERENCES ,\n",
    " date_key INTEGER REFERENCES dimDate (date_key),\n",
    " customer_key INTEGER REFERENCES dimCustomer (customer_key)\n",
    " movie_key INTEGER REFERENCES dimMovie (movie_key)\n",
    " store_key INTEGER REFERENCES dimStore (store_key)\n",
    " sales_amount INTEGER\n",
    ");"
   ]
  },
  {
   "cell_type": "code",
   "execution_count": null,
   "metadata": {},
   "outputs": [],
   "source": [
    "SELECT column_name, data_type\n",
    "FROM information_schema.columns\n",
    "WHERE table_name   = 'dimdate'"
   ]
  },
  {
   "cell_type": "code",
   "execution_count": null,
   "metadata": {},
   "outputs": [],
   "source": [
    "INSERT INTO dimmovie(\n",
    "    movie_key, \n",
    "    film_id, title, \n",
    "    description, \n",
    "    release_year, \n",
    "    language, \n",
    "    original_language, \n",
    "    rental_duration, \n",
    "    length, rating, \n",
    "    special_features\n",
    "    )\n",
    "SELECT\n",
    "    film_id as movie_key,\n",
    "    f.film_id,\n",
    "    f.title,\n",
    "    f.DESCRIPTION,\n",
    "    f.release_year,\n",
    "    l.name as language,\n",
    "    f.original_language_id as original_language,\n",
    "    f.rental_duration,\n",
    "    f.length,\n",
    "    f.rating,\n",
    "    f.special_features\n",
    "FROM film f    \n",
    "JOIN language l\n",
    "ON f.language_id = l.language_id"
   ]
  },
  {
   "cell_type": "code",
   "execution_count": null,
   "metadata": {},
   "outputs": [],
   "source": [
    "INSERT INTO dimstore (\n",
    "    store_key,\n",
    "    store_id,\n",
    "    address,\n",
    "    address2,\n",
    "    district,\n",
    "    city,\n",
    "    country,\n",
    "    postal_code,\n",
    "    manager_first_name,\n",
    "    manager_last_name,\n",
    "    start_date,\n",
    "    end_date\n",
    ")\n",
    "SELECT DISTINCT\n",
    "    s.store_id AS store_key,\n",
    "    s.store_id, \n",
    "    a.address, \n",
    "    a.address2, \n",
    "    a.district, \n",
    "    c.city, \n",
    "    co.country, \n",
    "    a.postal_code, \n",
    "    st.first_name AS manager_first_name, \n",
    "    st.last_name AS manager_last_name, \n",
    "    now() AS start_date, \n",
    "    now() AS end_date\n",
    "FROM store s\n",
    "JOIN staff st ON st.store_id = s.store_id\n",
    "JOIN address a ON a.address_id = s.address_id\n",
    "JOIN city c ON c.city_id = a.city_id\n",
    "JOIN country co ON co.country_id = c.country_id;"
   ]
  }
 ],
 "metadata": {
  "language_info": {
   "name": "python"
  }
 },
 "nbformat": 4,
 "nbformat_minor": 2
}
