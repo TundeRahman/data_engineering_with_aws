{
 "cells": [
  {
   "cell_type": "code",
   "execution_count": null,
   "metadata": {},
   "outputs": [],
   "source": [
    "#creation of date table\n",
    "CREATE TABLE dimDate (\n",
    "    date_key INTEGER GENERATED ALWAYS AS IDENTITY PRIMARY KEY, \n",
    "    date DATE,\n",
    "    year SMALLINT,\n",
    "    quarter SMALLINT,\n",
    "    month SMALLINT,\n",
    "    day SMALLINT,\n",
    "    week SMALLINT,\n",
    "    is_weekend BOOLEAN\n",
    ");"
   ]
  },
  {
   "cell_type": "markdown",
   "metadata": {},
   "source": [
    "### To check your work, run the following query to see a table with the field names and data types. The output should match the table below."
   ]
  },
  {
   "cell_type": "code",
   "execution_count": null,
   "metadata": {},
   "outputs": [],
   "source": [
    "SELECT column_name, data_type\n",
    "FROM information_schema.columns\n",
    "WHERE table_name   = 'dimdate'"
   ]
  },
  {
   "cell_type": "code",
   "execution_count": null,
   "metadata": {},
   "outputs": [],
   "source": [
    "CREATE TABLE dimCustomer\n",
    "(\n",
    "  customer_key SERIAL PRIMARY KEY,\n",
    "  customer_id  smallint NOT NULL,\n",
    "  first_name   varchar(45) NOT NULL,\n",
    "  last_name    varchar(45) NOT NULL,\n",
    "  email        varchar(50),\n",
    "  address      varchar(50) NOT NULL,\n",
    "  address2     varchar(50),\n",
    "  district     varchar(20) NOT NULL,\n",
    "  city         varchar(50) NOT NULL,\n",
    "  country      varchar(50) NOT NULL,\n",
    "  postal_code  varchar(10),\n",
    "  phone        varchar(20) NOT NULL,\n",
    "  active       smallint NOT NULL,\n",
    "  create_date  timestamp NOT NULL,\n",
    "  start_date   date NOT NULL,\n",
    "  end_date     date NOT NULL\n",
    ");"
   ]
  },
  {
   "cell_type": "code",
   "execution_count": null,
   "metadata": {},
   "outputs": [],
   "source": [
    "CREATE TABLE dimMovie\n",
    "(\n",
    "  movie_key          SERIAL PRIMARY KEY,\n",
    "  film_id            smallint NOT NULL,\n",
    "  title              varchar(255) NOT NULL,\n",
    "  description        text,\n",
    "  release_year       year,\n",
    "  language           varchar(20) NOT NULL,\n",
    "  original_language  varchar(20),\n",
    "  rental_duration    smallint NOT NULL,\n",
    "  length             smallint NOT NULL,\n",
    "  rating             varchar(5) NOT NULL,\n",
    "  special_features   varchar(60) NOT NULL\n",
    ");"
   ]
  },
  {
   "cell_type": "code",
   "execution_count": null,
   "metadata": {},
   "outputs": [],
   "source": [
    "CREATE TABLE dimStore\n",
    "(\n",
    "  store_key           SERIAL PRIMARY KEY,\n",
    "  store_id            smallint NOT NULL,\n",
    "  address             varchar(50) NOT NULL,\n",
    "  address2            varchar(50),\n",
    "  district            varchar(20) NOT NULL,\n",
    "  city                varchar(50) NOT NULL,\n",
    "  country             varchar(50) NOT NULL,\n",
    "  postal_code         varchar(10),\n",
    "  manager_first_name  varchar(45) NOT NULL,\n",
    "  manager_last_name   varchar(45) NOT NULL,\n",
    "  start_date          date NOT NULL,\n",
    "  end_date            date NOT NULL\n",
    ");"
   ]
  },
  {
   "cell_type": "code",
   "execution_count": null,
   "metadata": {},
   "outputs": [],
   "source": [
    "%%sql\n",
    "CREATE TABLE factSales\n",
    "(\n",
    " sales_key INTEGER REFERENCES ,\n",
    " date_key INTEGER REFERENCES dimDate (date_key),\n",
    " customer_key INTEGER REFERENCES dimCustomer (customer_key)\n",
    " movie_key INTEGER REFERENCES dimMovie (movie_key)\n",
    " store_key INTEGER REFERENCES dimStore (store_key)\n",
    " sales_amount INTEGER\n",
    ");"
   ]
  }
 ],
 "metadata": {
  "language_info": {
   "name": "python"
  }
 },
 "nbformat": 4,
 "nbformat_minor": 2
}
