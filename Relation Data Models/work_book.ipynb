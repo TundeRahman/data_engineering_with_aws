{
 "cells": [
  {
   "cell_type": "code",
   "execution_count": 2,
   "metadata": {},
   "outputs": [
    {
     "name": "stdout",
     "output_type": "stream",
     "text": [
      "Collecting psycopg2\n",
      "  Downloading psycopg2-2.9.10.tar.gz (385 kB)\n",
      "  Preparing metadata (setup.py) ... \u001b[?25ldone\n",
      "\u001b[?25hBuilding wheels for collected packages: psycopg2\n",
      "  Building wheel for psycopg2 (setup.py) ... \u001b[?25ldone\n",
      "\u001b[?25h  Created wheel for psycopg2: filename=psycopg2-2.9.10-cp312-cp312-macosx_11_0_arm64.whl size=133406 sha256=814b7091aced79d2547e2046b2067968e4c641e8878fc515d158ac36acba6675\n",
      "  Stored in directory: /Users/babatunderahman/Library/Caches/pip/wheels/ac/bb/ce/afa589c50b6004d3a06fc691e71bd09c9bd5f01e5921e5329b\n",
      "Successfully built psycopg2\n",
      "Installing collected packages: psycopg2\n",
      "Successfully installed psycopg2-2.9.10\n",
      "Note: you may need to restart the kernel to use updated packages.\n"
     ]
    }
   ],
   "source": [
    "pip install psycopg2"
   ]
  },
  {
   "cell_type": "code",
   "execution_count": 6,
   "metadata": {},
   "outputs": [],
   "source": [
    "import psycopg2"
   ]
  },
  {
   "cell_type": "code",
   "execution_count": 13,
   "metadata": {},
   "outputs": [],
   "source": [
    "try: \n",
    "    conn = psycopg2.connect(\"host=127.0.0.1 dbname=test3 user=postgres password=Tunde123!@#\")\n",
    "except psycopg2.Error as e: \n",
    "    print(\"Error: Could not make connection to the Postgres database\")\n",
    "    print(e)"
   ]
  },
  {
   "cell_type": "code",
   "execution_count": 14,
   "metadata": {},
   "outputs": [],
   "source": [
    "try: \n",
    "    cur = conn.cursor()\n",
    "except psycopg2.Error as e: \n",
    "    print(\"Error: Could not get cursor to the Database\")\n",
    "    print(e)"
   ]
  },
  {
   "cell_type": "code",
   "execution_count": 15,
   "metadata": {},
   "outputs": [],
   "source": [
    "conn.set_session(autocommit=True)\n"
   ]
  },
  {
   "cell_type": "code",
   "execution_count": 16,
   "metadata": {},
   "outputs": [],
   "source": [
    "# Create table\n",
    "try: \n",
    "    cur.execute(\"\"\"\n",
    "        CREATE TABLE IF NOT EXISTS customer_transactions (\n",
    "            customer_id int, \n",
    "            store_id int,\n",
    "            spent numeric(5,2)  -- Correct precision for 'spent'\n",
    "        );\n",
    "    \"\"\")\n",
    "except psycopg2.Error as e: \n",
    "    print(\"Error: Issue creating table\")\n",
    "    print(e)\n",
    "\n",
    "# Insert into the table\n",
    "try: \n",
    "    cur.execute(\"\"\"\n",
    "        INSERT INTO customer_transactions (customer_id, store_id, spent) \n",
    "        VALUES (%s, %s, %s)\n",
    "    \"\"\", (1, 1, 20.50))\n",
    "except psycopg2.Error as e: \n",
    "    print(\"Error: Inserting Rows\")\n",
    "    print(e)\n",
    "\n",
    "try: \n",
    "    cur.execute(\"\"\"\n",
    "        INSERT INTO customer_transactions (customer_id, store_id, spent) \n",
    "        VALUES (%s, %s, %s)\n",
    "    \"\"\", (2, 1, 35.21))\n",
    "except psycopg2.Error as e: \n",
    "    print(\"Error: Inserting Rows\")\n",
    "    print(e)\n"
   ]
  },
  {
   "cell_type": "code",
   "execution_count": 17,
   "metadata": {},
   "outputs": [],
   "source": [
    "try: \n",
    "    cur.execute(\"\"\"\n",
    "        CREATE TABLE IF NOT EXISTS items_purchased (\n",
    "            customer_id int, item_number int, item_name varchar\n",
    "            );\n",
    "            \"\"\")\n",
    "    \n",
    "except psycopg2.Error as e: \n",
    "    print(\"Error: Issue creating table\")\n",
    "    print (e)\n",
    "    \n",
    "try: \n",
    "   cur.execute(\"\"\"\n",
    "       INSERT INTO items_purchased (customer_id, item_number, item_name)\n",
    "       VALUES (%s,%s,%s)\n",
    "       \"\"\"  ,(1,1,\"Rubber Soul\"))\n",
    "         \n",
    "except psycopg2.Error as e: \n",
    "    print(\"Error: Inserting Rows\")\n",
    "    print (e)\n",
    "    \n",
    "try: \n",
    "      cur.execute(\"\"\"\n",
    "       INSERT INTO items_purchased (customer_id, item_number, item_name)\n",
    "       VALUES (%s,%s,%s)\n",
    "       \"\"\"  ,(2,3,\"Let it Be\"))\n",
    "        \n",
    "except psycopg2.Error as e: \n",
    "    print(\"Error: Inserting Rows\")\n",
    "    print (e)\n",
    "    \n",
    "try: \n",
    "    cur.execute(\"\"\"\n",
    "        CREATE TABLE IF NOT EXISTS customer (\n",
    "            customer_id int, name varchar, rewards varchar\n",
    "            );\n",
    "            \"\"\")\n",
    "    \n",
    "except psycopg2.Error as e: \n",
    "    print(\"Error: Issue creating table\")\n",
    "    print (e)\n",
    "    \n",
    "try: \n",
    "    cur.execute(\"\"\"\n",
    "       INSERT INTO customer (customer_id, name, rewards)\n",
    "       VALUES (%s,%s,%s)\n",
    "       \"\"\"  ,(1,\"Amanda\",\"Y\"))\n",
    "    \n",
    "except psycopg2.Error as e: \n",
    "    print(\"Error: Inserting Rows\")\n",
    "    print (e)\n",
    "    \n",
    "try: \n",
    "    cur.execute(\"\"\"\n",
    "       INSERT INTO customer (customer_id, name, rewards)\n",
    "       VALUES (%s,%s,%s)\n",
    "       \"\"\"  ,(2,\"Toby\",\"N\"))\n",
    "    \n",
    "except psycopg2.Error as e: \n",
    "    print(\"Error: Inserting Rows\")\n",
    "    print (e)\n",
    "    \n",
    "try: \n",
    "    cur.execute(\"\"\"\n",
    "        CREATE TABLE IF NOT EXISTS store (\n",
    "            store_id int, state varchaR\n",
    "            );\n",
    "            \"\"\")\n",
    "    \n",
    "except psycopg2.Error as e: \n",
    "    print(\"Error: Issue creating table\")\n",
    "    print (e)\n",
    "    \n",
    "try: \n",
    "     cur.execute(\"\"\"\n",
    "       INSERT INTO store (store_id, state)\n",
    "       VALUES (%s,%s)\n",
    "       \"\"\"  ,(1,\"CA\"))\n",
    "        \n",
    "except psycopg2.Error as e: \n",
    "    print(\"Error: Inserting Rows\")\n",
    "    print (e)\n",
    "\n",
    "try: \n",
    "    cur.execute(\"\"\"\n",
    "       INSERT INTO store (store_id, state)\n",
    "       VALUES (%s,%s)\n",
    "       \"\"\"  ,(2,\"WA\"))\n",
    "    \n",
    "except psycopg2.Error as e: \n",
    "    print(\"Error: Inserting Rows\")\n",
    "    print (e)"
   ]
  },
  {
   "cell_type": "code",
   "execution_count": null,
   "metadata": {},
   "outputs": [],
   "source": []
  },
  {
   "cell_type": "code",
   "execution_count": null,
   "metadata": {},
   "outputs": [],
   "source": []
  },
  {
   "cell_type": "code",
   "execution_count": null,
   "metadata": {},
   "outputs": [],
   "source": []
  }
 ],
 "metadata": {
  "kernelspec": {
   "display_name": "Python 3 (ipykernel)",
   "language": "python",
   "name": "python3"
  },
  "language_info": {
   "codemirror_mode": {
    "name": "ipython",
    "version": 3
   },
   "file_extension": ".py",
   "mimetype": "text/x-python",
   "name": "python",
   "nbconvert_exporter": "python",
   "pygments_lexer": "ipython3",
   "version": "3.12.7"
  },
  "vscode": {
   "interpreter": {
    "hash": "40d3a090f54c6569ab1632332b64b2c03c39dcf918b08424e98f38b5ae0af88f"
   }
  }
 },
 "nbformat": 4,
 "nbformat_minor": 4
}
